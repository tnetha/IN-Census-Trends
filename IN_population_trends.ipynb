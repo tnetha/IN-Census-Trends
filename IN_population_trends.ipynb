{
 "cells": [
  {
   "cell_type": "code",
   "execution_count": 2,
   "metadata": {},
   "outputs": [],
   "source": [
    "import pandas as pd"
   ]
  },
  {
   "cell_type": "code",
   "execution_count": 10,
   "metadata": {},
   "outputs": [],
   "source": [
    "# Load in 2020 county data and assign first row as headers\n",
    "popIN2020 = pd.read_json(\"https://api.census.gov/data/2020/dec/pl?get=NAME,P1_001N&for=county:*&in=state:18\")\n",
    "popIN2020.columns = popIN2020.iloc[0]\n",
    "popIN2020 = popIN2020[1:]\n",
    "popIN2020.rename(columns={'P1_001N': 'Population'},inplace=True)\n",
    "popIN2020['Year'] = 2020\n",
    "\n",
    "# Load in 2010 county data, notice different population col name\n",
    "popIN2010 = pd.read_json(\"https://api.census.gov/data/2010/dec/pl?get=NAME,P001001&for=county:*&in=state:18\")\n",
    "popIN2010.columns = popIN2010.iloc[0]\n",
    "popIN2010 = popIN2010[1:]\n",
    "popIN2010.rename(columns={'P001001': 'Population'},inplace=True)\n",
    "popIN2010['Year'] = 2010\n",
    "\n",
    "# Load in 2000 county data, notice different population col name\n",
    "popIN2000 = pd.read_json(\"https://api.census.gov/data/2000/dec/pl?get=NAME,PL001001&for=county:*&in=state:18\")\n",
    "popIN2000.columns = popIN2000.iloc[0]\n",
    "popIN2000 = popIN2000[1:]\n",
    "popIN2000.rename(columns={'PL001001': 'Population'},inplace=True)\n",
    "popIN2000['Year'] = 2000\n",
    "\n",
    "# Combine all three into one dataframe\n",
    "popIN = pd.concat([popIN2000, popIN2010, popIN2020])"
   ]
  },
  {
   "cell_type": "code",
   "execution_count": 12,
   "metadata": {},
   "outputs": [],
   "source": [
    "popIN.to_csv('popIN.csv', index=False)"
   ]
  }
 ],
 "metadata": {
  "interpreter": {
   "hash": "bb5cf6cbad0f01b1fce6fd28892f1e589c40ebca4ead7fe2201a9d4c77041bd6"
  },
  "kernelspec": {
   "display_name": "Python 3.9.7 ('base')",
   "language": "python",
   "name": "python3"
  },
  "language_info": {
   "codemirror_mode": {
    "name": "ipython",
    "version": 3
   },
   "file_extension": ".py",
   "mimetype": "text/x-python",
   "name": "python",
   "nbconvert_exporter": "python",
   "pygments_lexer": "ipython3",
   "version": "3.9.7"
  },
  "orig_nbformat": 4
 },
 "nbformat": 4,
 "nbformat_minor": 2
}
