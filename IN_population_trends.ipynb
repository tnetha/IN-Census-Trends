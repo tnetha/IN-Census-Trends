{
 "cells": [
  {
   "cell_type": "code",
   "execution_count": 3,
   "metadata": {},
   "outputs": [],
   "source": [
    "import pandas as pd"
   ]
  },
  {
   "cell_type": "code",
   "execution_count": 17,
   "metadata": {},
   "outputs": [],
   "source": [
    "# Load in 2020 county data and assign first row as headers\n",
    "popIN2020 = pd.read_json(\"https://api.census.gov/data/2020/dec/pl?get=NAME,P1_001N&for=county:*&in=state:18\")\n",
    "popIN2020.columns = popIN2020.iloc[0]\n",
    "popIN2020 = popIN2020[1:]"
   ]
  },
  {
   "cell_type": "code",
   "execution_count": 18,
   "metadata": {},
   "outputs": [
    {
     "data": {
      "text/plain": [
       "<bound method NDFrame.head of 0                       NAME P1_001N state county\n",
       "1      Floyd County, Indiana   80484    18    043\n",
       "2   Delaware County, Indiana  111903    18    035\n",
       "3    Elkhart County, Indiana  207047    18    039\n",
       "4    Fayette County, Indiana   23398    18    041\n",
       "5   Fountain County, Indiana   16479    18    045\n",
       "..                       ...     ...   ...    ...\n",
       "88     Clark County, Indiana  121093    18    019\n",
       "89   Clinton County, Indiana   33190    18    023\n",
       "90  Crawford County, Indiana   10526    18    025\n",
       "91  Dearborn County, Indiana   50679    18    029\n",
       "92   Decatur County, Indiana   26472    18    031\n",
       "\n",
       "[92 rows x 4 columns]>"
      ]
     },
     "execution_count": 18,
     "metadata": {},
     "output_type": "execute_result"
    }
   ],
   "source": []
  }
 ],
 "metadata": {
  "interpreter": {
   "hash": "bb5cf6cbad0f01b1fce6fd28892f1e589c40ebca4ead7fe2201a9d4c77041bd6"
  },
  "kernelspec": {
   "display_name": "Python 3.9.7 ('base')",
   "language": "python",
   "name": "python3"
  },
  "language_info": {
   "codemirror_mode": {
    "name": "ipython",
    "version": 3
   },
   "file_extension": ".py",
   "mimetype": "text/x-python",
   "name": "python",
   "nbconvert_exporter": "python",
   "pygments_lexer": "ipython3",
   "version": "3.9.7"
  },
  "orig_nbformat": 4
 },
 "nbformat": 4,
 "nbformat_minor": 2
}
